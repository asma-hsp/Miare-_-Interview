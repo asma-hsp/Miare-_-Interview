{
  "nbformat": 4,
  "nbformat_minor": 0,
  "metadata": {
    "colab": {
      "name": "Question7.ipynb",
      "provenance": [],
      "collapsed_sections": []
    },
    "kernelspec": {
      "name": "python3",
      "display_name": "Python 3"
    },
    "language_info": {
      "name": "python"
    }
  },
  "cells": [
    {
      "cell_type": "code",
      "metadata": {
        "id": "fUU--QTyjEnf"
      },
      "source": [
        "import numpy as np \n",
        "import pandas as pd \n",
        "import seaborn as sns\n",
        "import matplotlib.pyplot as plt\n",
        "import xgboost as xgb\n",
        "from xgboost import plot_importance, plot_tree\n",
        "from sklearn.metrics import mean_squared_error, mean_absolute_error\n",
        "from sklearn.metrics import r2_score\n",
        "import matplotlib.pyplot as plt\n",
        "from sklearn.model_selection import GridSearchCV"
      ],
      "execution_count": 66,
      "outputs": []
    },
    {
      "cell_type": "code",
      "metadata": {
        "colab": {
          "base_uri": "https://localhost:8080/"
        },
        "id": "tKfvT--vfdoH",
        "outputId": "79f03bea-f559-4402-e5f2-932ab6ea38ae"
      },
      "source": [
        "from google.colab import drive\n",
        "drive.mount('/content/drive')"
      ],
      "execution_count": 19,
      "outputs": [
        {
          "output_type": "stream",
          "text": [
            "Drive already mounted at /content/drive; to attempt to forcibly remount, call drive.mount(\"/content/drive\", force_remount=True).\n"
          ],
          "name": "stdout"
        }
      ]
    },
    {
      "cell_type": "code",
      "metadata": {
        "id": "Ro2K50RugEA4"
      },
      "source": [
        "path = \"/content/drive/MyDrive/Small_Data.csv\"\n",
        "df = pd.read_csv(path)"
      ],
      "execution_count": 20,
      "outputs": []
    },
    {
      "cell_type": "code",
      "metadata": {
        "colab": {
          "base_uri": "https://localhost:8080/",
          "height": 204
        },
        "id": "xeUouoTChi66",
        "outputId": "dcb5964f-3d08-497b-9d58-543e82bdb62a"
      },
      "source": [
        "date = df['date']\n",
        "station_idd = df['station_id']\n",
        "df.drop(['date','station_id','TRIP ID','Unnamed: 0'],axis = 1,inplace = True)\n",
        "df.head()"
      ],
      "execution_count": 21,
      "outputs": [
        {
          "output_type": "execute_result",
          "data": {
            "text/html": [
              "<div>\n",
              "<style scoped>\n",
              "    .dataframe tbody tr th:only-of-type {\n",
              "        vertical-align: middle;\n",
              "    }\n",
              "\n",
              "    .dataframe tbody tr th {\n",
              "        vertical-align: top;\n",
              "    }\n",
              "\n",
              "    .dataframe thead th {\n",
              "        text-align: right;\n",
              "    }\n",
              "</style>\n",
              "<table border=\"1\" class=\"dataframe\">\n",
              "  <thead>\n",
              "    <tr style=\"text-align: right;\">\n",
              "      <th></th>\n",
              "      <th>dayofweek</th>\n",
              "      <th>dayofmonth</th>\n",
              "      <th>month</th>\n",
              "      <th>Longitude</th>\n",
              "      <th>Latitude</th>\n",
              "      <th>count</th>\n",
              "    </tr>\n",
              "  </thead>\n",
              "  <tbody>\n",
              "    <tr>\n",
              "      <th>0</th>\n",
              "      <td>1</td>\n",
              "      <td>1</td>\n",
              "      <td>1</td>\n",
              "      <td>-87.626768</td>\n",
              "      <td>41.891377</td>\n",
              "      <td>9</td>\n",
              "    </tr>\n",
              "    <tr>\n",
              "      <th>1</th>\n",
              "      <td>1</td>\n",
              "      <td>1</td>\n",
              "      <td>1</td>\n",
              "      <td>-87.627734</td>\n",
              "      <td>41.884730</td>\n",
              "      <td>9</td>\n",
              "    </tr>\n",
              "    <tr>\n",
              "      <th>2</th>\n",
              "      <td>1</td>\n",
              "      <td>1</td>\n",
              "      <td>1</td>\n",
              "      <td>-87.656495</td>\n",
              "      <td>41.858166</td>\n",
              "      <td>2</td>\n",
              "    </tr>\n",
              "    <tr>\n",
              "      <th>3</th>\n",
              "      <td>1</td>\n",
              "      <td>1</td>\n",
              "      <td>1</td>\n",
              "      <td>-87.697153</td>\n",
              "      <td>41.922695</td>\n",
              "      <td>6</td>\n",
              "    </tr>\n",
              "    <tr>\n",
              "      <th>4</th>\n",
              "      <td>1</td>\n",
              "      <td>1</td>\n",
              "      <td>1</td>\n",
              "      <td>-87.621743</td>\n",
              "      <td>41.896910</td>\n",
              "      <td>8</td>\n",
              "    </tr>\n",
              "  </tbody>\n",
              "</table>\n",
              "</div>"
            ],
            "text/plain": [
              "   dayofweek  dayofmonth  month  Longitude   Latitude  count\n",
              "0          1           1      1 -87.626768  41.891377      9\n",
              "1          1           1      1 -87.627734  41.884730      9\n",
              "2          1           1      1 -87.656495  41.858166      2\n",
              "3          1           1      1 -87.697153  41.922695      6\n",
              "4          1           1      1 -87.621743  41.896910      8"
            ]
          },
          "metadata": {
            "tags": []
          },
          "execution_count": 21
        }
      ]
    },
    {
      "cell_type": "code",
      "metadata": {
        "id": "ycmhT_U3jLkM",
        "colab": {
          "base_uri": "https://localhost:8080/"
        },
        "outputId": "983ee8c5-a2e6-4bf2-82b0-2d0e85876f5a"
      },
      "source": [
        "df.rename(columns = {'count':'actual'},inplace=True)\n",
        "m = int(df.shape[0]/5)\n",
        "print(m)\n",
        "train_X = df.iloc[0:3*m,:]\n",
        "val_X =df.iloc[3*m:4*m,:]\n",
        "test_X = df.iloc[4*m:,:]\n",
        "a = (train_X.drop('actual',axis =1 ),train_X['actual'],val_X.drop('actual',axis =1 ),val_X['actual'],test_X.drop('actual',axis =1 ),test_X['actual'])\n",
        "X_train = a[0]\n",
        "y_train=a[1]\n",
        "X_val=a[2]\n",
        "y_val=a[3]\n",
        "X_test=a[4]\n",
        "Y_test=a[5]  \n"
      ],
      "execution_count": 47,
      "outputs": [
        {
          "output_type": "stream",
          "text": [
            "35291\n"
          ],
          "name": "stdout"
        }
      ]
    },
    {
      "cell_type": "code",
      "metadata": {
        "colab": {
          "base_uri": "https://localhost:8080/",
          "height": 419
        },
        "id": "sTUNdiTqldkD",
        "outputId": "9b91c4ee-2c12-4f1f-d162-5b163399086e"
      },
      "source": [
        "val_X"
      ],
      "execution_count": 48,
      "outputs": [
        {
          "output_type": "execute_result",
          "data": {
            "text/html": [
              "<div>\n",
              "<style scoped>\n",
              "    .dataframe tbody tr th:only-of-type {\n",
              "        vertical-align: middle;\n",
              "    }\n",
              "\n",
              "    .dataframe tbody tr th {\n",
              "        vertical-align: top;\n",
              "    }\n",
              "\n",
              "    .dataframe thead th {\n",
              "        text-align: right;\n",
              "    }\n",
              "</style>\n",
              "<table border=\"1\" class=\"dataframe\">\n",
              "  <thead>\n",
              "    <tr style=\"text-align: right;\">\n",
              "      <th></th>\n",
              "      <th>dayofweek</th>\n",
              "      <th>dayofmonth</th>\n",
              "      <th>month</th>\n",
              "      <th>Longitude</th>\n",
              "      <th>Latitude</th>\n",
              "      <th>actual</th>\n",
              "    </tr>\n",
              "  </thead>\n",
              "  <tbody>\n",
              "    <tr>\n",
              "      <th>105873</th>\n",
              "      <td>0</td>\n",
              "      <td>12</td>\n",
              "      <td>8</td>\n",
              "      <td>-87.649613</td>\n",
              "      <td>41.877929</td>\n",
              "      <td>56</td>\n",
              "    </tr>\n",
              "    <tr>\n",
              "      <th>105874</th>\n",
              "      <td>0</td>\n",
              "      <td>12</td>\n",
              "      <td>8</td>\n",
              "      <td>-87.630585</td>\n",
              "      <td>41.875933</td>\n",
              "      <td>35</td>\n",
              "    </tr>\n",
              "    <tr>\n",
              "      <th>105875</th>\n",
              "      <td>0</td>\n",
              "      <td>12</td>\n",
              "      <td>8</td>\n",
              "      <td>-87.663576</td>\n",
              "      <td>41.935733</td>\n",
              "      <td>35</td>\n",
              "    </tr>\n",
              "    <tr>\n",
              "      <th>105876</th>\n",
              "      <td>0</td>\n",
              "      <td>12</td>\n",
              "      <td>8</td>\n",
              "      <td>-87.697200</td>\n",
              "      <td>41.910440</td>\n",
              "      <td>7</td>\n",
              "    </tr>\n",
              "    <tr>\n",
              "      <th>105877</th>\n",
              "      <td>0</td>\n",
              "      <td>12</td>\n",
              "      <td>8</td>\n",
              "      <td>-87.636282</td>\n",
              "      <td>41.918306</td>\n",
              "      <td>78</td>\n",
              "    </tr>\n",
              "    <tr>\n",
              "      <th>...</th>\n",
              "      <td>...</td>\n",
              "      <td>...</td>\n",
              "      <td>...</td>\n",
              "      <td>...</td>\n",
              "      <td>...</td>\n",
              "      <td>...</td>\n",
              "    </tr>\n",
              "    <tr>\n",
              "      <th>141159</th>\n",
              "      <td>4</td>\n",
              "      <td>18</td>\n",
              "      <td>10</td>\n",
              "      <td>-87.635640</td>\n",
              "      <td>41.896770</td>\n",
              "      <td>61</td>\n",
              "    </tr>\n",
              "    <tr>\n",
              "      <th>141160</th>\n",
              "      <td>4</td>\n",
              "      <td>18</td>\n",
              "      <td>10</td>\n",
              "      <td>-87.629791</td>\n",
              "      <td>41.879356</td>\n",
              "      <td>40</td>\n",
              "    </tr>\n",
              "    <tr>\n",
              "      <th>141161</th>\n",
              "      <td>4</td>\n",
              "      <td>18</td>\n",
              "      <td>10</td>\n",
              "      <td>-87.654406</td>\n",
              "      <td>41.954245</td>\n",
              "      <td>49</td>\n",
              "    </tr>\n",
              "    <tr>\n",
              "      <th>141162</th>\n",
              "      <td>4</td>\n",
              "      <td>18</td>\n",
              "      <td>10</td>\n",
              "      <td>-87.630585</td>\n",
              "      <td>41.875933</td>\n",
              "      <td>45</td>\n",
              "    </tr>\n",
              "    <tr>\n",
              "      <th>141163</th>\n",
              "      <td>4</td>\n",
              "      <td>18</td>\n",
              "      <td>10</td>\n",
              "      <td>-87.627734</td>\n",
              "      <td>41.884730</td>\n",
              "      <td>79</td>\n",
              "    </tr>\n",
              "  </tbody>\n",
              "</table>\n",
              "<p>35291 rows × 6 columns</p>\n",
              "</div>"
            ],
            "text/plain": [
              "        dayofweek  dayofmonth  month  Longitude   Latitude  actual\n",
              "105873          0          12      8 -87.649613  41.877929      56\n",
              "105874          0          12      8 -87.630585  41.875933      35\n",
              "105875          0          12      8 -87.663576  41.935733      35\n",
              "105876          0          12      8 -87.697200  41.910440       7\n",
              "105877          0          12      8 -87.636282  41.918306      78\n",
              "...           ...         ...    ...        ...        ...     ...\n",
              "141159          4          18     10 -87.635640  41.896770      61\n",
              "141160          4          18     10 -87.629791  41.879356      40\n",
              "141161          4          18     10 -87.654406  41.954245      49\n",
              "141162          4          18     10 -87.630585  41.875933      45\n",
              "141163          4          18     10 -87.627734  41.884730      79\n",
              "\n",
              "[35291 rows x 6 columns]"
            ]
          },
          "metadata": {
            "tags": []
          },
          "execution_count": 48
        }
      ]
    },
    {
      "cell_type": "code",
      "metadata": {
        "id": "rG7lQ5Zr8POJ"
      },
      "source": [
        "parameters = {'nthread':[4],\n",
        "              'objective':['reg:linear'],\n",
        "              'learning_rate': [ 0.05, 0.07,0.1],\n",
        "              'max_depth': [5,6],\n",
        "              'min_child_weight': [4,5],\n",
        "              'silent': [1],\n",
        "              'subsample': [0.7],\n",
        "              'colsample_bytree': [0.7],\n",
        "              'n_estimators': [500]}"
      ],
      "execution_count": 53,
      "outputs": []
    },
    {
      "cell_type": "code",
      "metadata": {
        "id": "mK7N0cIjjU8M",
        "colab": {
          "base_uri": "https://localhost:8080/"
        },
        "outputId": "da966721-c453-4bde-e289-f99cc970b797"
      },
      "source": [
        "xgb1= xgb.XGBRegressor()\n",
        "xgb_grid = GridSearchCV(xgb1,\n",
        "                        parameters,\n",
        "                        cv = 2,\n",
        "                        n_jobs =5,\n",
        "                        verbose=True)\n",
        "xgb_grid.fit(X_train, y_train,\n",
        "        eval_set=[(X_train, y_train), (X_val, y_val)],\n",
        "        early_stopping_rounds=50,\n",
        "       verbose=True)"
      ],
      "execution_count": 54,
      "outputs": [
        {
          "output_type": "stream",
          "text": [
            "Fitting 2 folds for each of 12 candidates, totalling 24 fits\n"
          ],
          "name": "stdout"
        },
        {
          "output_type": "stream",
          "text": [
            "[Parallel(n_jobs=5)]: Using backend LokyBackend with 5 concurrent workers.\n",
            "[Parallel(n_jobs=5)]: Done  24 out of  24 | elapsed:  5.5min finished\n"
          ],
          "name": "stderr"
        },
        {
          "output_type": "stream",
          "text": [
            "[0]\tvalidation_0-rmse:39.8697\tvalidation_1-rmse:50.1753\n",
            "Multiple eval metrics have been passed: 'validation_1-rmse' will be used for early stopping.\n",
            "\n",
            "Will train until validation_1-rmse hasn't improved in 50 rounds.\n",
            "[1]\tvalidation_0-rmse:39.242\tvalidation_1-rmse:49.2353\n",
            "[2]\tvalidation_0-rmse:38.6689\tvalidation_1-rmse:48.3847\n",
            "[3]\tvalidation_0-rmse:38.1484\tvalidation_1-rmse:47.6464\n",
            "[4]\tvalidation_0-rmse:37.4633\tvalidation_1-rmse:46.8661\n",
            "[5]\tvalidation_0-rmse:36.8199\tvalidation_1-rmse:46.132\n",
            "[6]\tvalidation_0-rmse:36.2148\tvalidation_1-rmse:45.4264\n",
            "[7]\tvalidation_0-rmse:35.667\tvalidation_1-rmse:44.7803\n",
            "[8]\tvalidation_0-rmse:35.0279\tvalidation_1-rmse:43.8324\n",
            "[9]\tvalidation_0-rmse:34.4286\tvalidation_1-rmse:42.9803\n",
            "[10]\tvalidation_0-rmse:33.5449\tvalidation_1-rmse:41.7192\n",
            "[11]\tvalidation_0-rmse:33.0411\tvalidation_1-rmse:40.982\n",
            "[12]\tvalidation_0-rmse:32.6411\tvalidation_1-rmse:40.5083\n",
            "[13]\tvalidation_0-rmse:32.198\tvalidation_1-rmse:39.8416\n",
            "[14]\tvalidation_0-rmse:31.6468\tvalidation_1-rmse:39.0191\n",
            "[15]\tvalidation_0-rmse:31.2291\tvalidation_1-rmse:38.3821\n",
            "[16]\tvalidation_0-rmse:30.7283\tvalidation_1-rmse:37.7983\n",
            "[17]\tvalidation_0-rmse:30.0857\tvalidation_1-rmse:36.7839\n",
            "[18]\tvalidation_0-rmse:29.4998\tvalidation_1-rmse:35.9438\n",
            "[19]\tvalidation_0-rmse:28.8924\tvalidation_1-rmse:35.0969\n",
            "[20]\tvalidation_0-rmse:28.6281\tvalidation_1-rmse:34.7822\n",
            "[21]\tvalidation_0-rmse:28.3588\tvalidation_1-rmse:34.3935\n",
            "[22]\tvalidation_0-rmse:28.0202\tvalidation_1-rmse:34.0014\n",
            "[23]\tvalidation_0-rmse:27.6781\tvalidation_1-rmse:33.528\n",
            "[24]\tvalidation_0-rmse:27.3992\tvalidation_1-rmse:33.1598\n",
            "[25]\tvalidation_0-rmse:26.9109\tvalidation_1-rmse:32.5255\n",
            "[26]\tvalidation_0-rmse:26.452\tvalidation_1-rmse:31.9017\n",
            "[27]\tvalidation_0-rmse:26.1746\tvalidation_1-rmse:31.5268\n",
            "[28]\tvalidation_0-rmse:25.8076\tvalidation_1-rmse:31.075\n",
            "[29]\tvalidation_0-rmse:25.5437\tvalidation_1-rmse:30.786\n",
            "[30]\tvalidation_0-rmse:25.2502\tvalidation_1-rmse:30.4568\n",
            "[31]\tvalidation_0-rmse:25.1559\tvalidation_1-rmse:30.3978\n",
            "[32]\tvalidation_0-rmse:25.0716\tvalidation_1-rmse:30.3459\n",
            "[33]\tvalidation_0-rmse:24.9381\tvalidation_1-rmse:30.1824\n",
            "[34]\tvalidation_0-rmse:24.8009\tvalidation_1-rmse:30.0288\n",
            "[35]\tvalidation_0-rmse:24.6691\tvalidation_1-rmse:29.8838\n",
            "[36]\tvalidation_0-rmse:24.6079\tvalidation_1-rmse:29.8702\n",
            "[37]\tvalidation_0-rmse:24.421\tvalidation_1-rmse:29.6801\n",
            "[38]\tvalidation_0-rmse:24.3182\tvalidation_1-rmse:29.5211\n",
            "[39]\tvalidation_0-rmse:24.2682\tvalidation_1-rmse:29.5049\n",
            "[40]\tvalidation_0-rmse:24.2189\tvalidation_1-rmse:29.5063\n",
            "[41]\tvalidation_0-rmse:24.0407\tvalidation_1-rmse:29.3285\n",
            "[42]\tvalidation_0-rmse:23.8163\tvalidation_1-rmse:29.0797\n",
            "[43]\tvalidation_0-rmse:23.6906\tvalidation_1-rmse:28.9444\n",
            "[44]\tvalidation_0-rmse:23.6022\tvalidation_1-rmse:28.867\n",
            "[45]\tvalidation_0-rmse:23.4714\tvalidation_1-rmse:28.7278\n",
            "[46]\tvalidation_0-rmse:23.2241\tvalidation_1-rmse:28.4494\n",
            "[47]\tvalidation_0-rmse:23.1881\tvalidation_1-rmse:28.4568\n",
            "[48]\tvalidation_0-rmse:23.0982\tvalidation_1-rmse:28.3668\n",
            "[49]\tvalidation_0-rmse:23.0146\tvalidation_1-rmse:28.3125\n",
            "[50]\tvalidation_0-rmse:22.8896\tvalidation_1-rmse:28.1725\n",
            "[51]\tvalidation_0-rmse:22.7536\tvalidation_1-rmse:28.0955\n",
            "[52]\tvalidation_0-rmse:22.6868\tvalidation_1-rmse:28.0628\n",
            "[53]\tvalidation_0-rmse:22.5933\tvalidation_1-rmse:27.9636\n",
            "[54]\tvalidation_0-rmse:22.4338\tvalidation_1-rmse:27.7822\n",
            "[55]\tvalidation_0-rmse:22.3042\tvalidation_1-rmse:27.6838\n",
            "[56]\tvalidation_0-rmse:22.155\tvalidation_1-rmse:27.5297\n",
            "[57]\tvalidation_0-rmse:22.0572\tvalidation_1-rmse:27.4166\n",
            "[58]\tvalidation_0-rmse:22.0296\tvalidation_1-rmse:27.4232\n",
            "[59]\tvalidation_0-rmse:21.9191\tvalidation_1-rmse:27.3015\n",
            "[60]\tvalidation_0-rmse:21.7258\tvalidation_1-rmse:27.1046\n",
            "[61]\tvalidation_0-rmse:21.5986\tvalidation_1-rmse:26.945\n",
            "[62]\tvalidation_0-rmse:21.5318\tvalidation_1-rmse:26.8979\n",
            "[63]\tvalidation_0-rmse:21.3988\tvalidation_1-rmse:26.7921\n",
            "[64]\tvalidation_0-rmse:21.2772\tvalidation_1-rmse:26.6568\n",
            "[65]\tvalidation_0-rmse:21.1547\tvalidation_1-rmse:26.5098\n",
            "[66]\tvalidation_0-rmse:21.1054\tvalidation_1-rmse:26.4536\n",
            "[67]\tvalidation_0-rmse:20.9515\tvalidation_1-rmse:26.2695\n",
            "[68]\tvalidation_0-rmse:20.8747\tvalidation_1-rmse:26.1755\n",
            "[69]\tvalidation_0-rmse:20.8497\tvalidation_1-rmse:26.1951\n",
            "[70]\tvalidation_0-rmse:20.751\tvalidation_1-rmse:26.0779\n",
            "[71]\tvalidation_0-rmse:20.6547\tvalidation_1-rmse:25.9567\n",
            "[72]\tvalidation_0-rmse:20.6123\tvalidation_1-rmse:25.93\n",
            "[73]\tvalidation_0-rmse:20.451\tvalidation_1-rmse:25.7562\n",
            "[74]\tvalidation_0-rmse:20.3646\tvalidation_1-rmse:25.6534\n",
            "[75]\tvalidation_0-rmse:20.286\tvalidation_1-rmse:25.553\n",
            "[76]\tvalidation_0-rmse:20.2416\tvalidation_1-rmse:25.5048\n",
            "[77]\tvalidation_0-rmse:20.2187\tvalidation_1-rmse:25.5191\n",
            "[78]\tvalidation_0-rmse:20.1869\tvalidation_1-rmse:25.4901\n",
            "[79]\tvalidation_0-rmse:20.1655\tvalidation_1-rmse:25.5095\n",
            "[80]\tvalidation_0-rmse:20.1214\tvalidation_1-rmse:25.4818\n",
            "[81]\tvalidation_0-rmse:20.0322\tvalidation_1-rmse:25.3618\n",
            "[82]\tvalidation_0-rmse:19.9799\tvalidation_1-rmse:25.3036\n",
            "[83]\tvalidation_0-rmse:19.9132\tvalidation_1-rmse:25.2446\n",
            "[84]\tvalidation_0-rmse:19.8612\tvalidation_1-rmse:25.2543\n",
            "[85]\tvalidation_0-rmse:19.8115\tvalidation_1-rmse:25.2038\n",
            "[86]\tvalidation_0-rmse:19.7397\tvalidation_1-rmse:25.2264\n",
            "[87]\tvalidation_0-rmse:19.6709\tvalidation_1-rmse:25.2045\n",
            "[88]\tvalidation_0-rmse:19.6206\tvalidation_1-rmse:25.1974\n",
            "[89]\tvalidation_0-rmse:19.5633\tvalidation_1-rmse:25.129\n",
            "[90]\tvalidation_0-rmse:19.4946\tvalidation_1-rmse:25.079\n",
            "[91]\tvalidation_0-rmse:19.4821\tvalidation_1-rmse:25.0802\n",
            "[92]\tvalidation_0-rmse:19.3924\tvalidation_1-rmse:24.9881\n",
            "[93]\tvalidation_0-rmse:19.2579\tvalidation_1-rmse:24.8693\n",
            "[94]\tvalidation_0-rmse:19.1939\tvalidation_1-rmse:24.8575\n",
            "[95]\tvalidation_0-rmse:19.1396\tvalidation_1-rmse:24.7956\n",
            "[96]\tvalidation_0-rmse:19.1284\tvalidation_1-rmse:24.8035\n",
            "[97]\tvalidation_0-rmse:19.0632\tvalidation_1-rmse:24.7497\n",
            "[98]\tvalidation_0-rmse:19.0467\tvalidation_1-rmse:24.7438\n",
            "[99]\tvalidation_0-rmse:19.0039\tvalidation_1-rmse:24.682\n",
            "[100]\tvalidation_0-rmse:18.9125\tvalidation_1-rmse:24.5848\n",
            "[101]\tvalidation_0-rmse:18.84\tvalidation_1-rmse:24.5143\n",
            "[102]\tvalidation_0-rmse:18.787\tvalidation_1-rmse:24.4707\n",
            "[103]\tvalidation_0-rmse:18.7687\tvalidation_1-rmse:24.4496\n",
            "[104]\tvalidation_0-rmse:18.7547\tvalidation_1-rmse:24.4593\n",
            "[105]\tvalidation_0-rmse:18.7025\tvalidation_1-rmse:24.4263\n",
            "[106]\tvalidation_0-rmse:18.6836\tvalidation_1-rmse:24.4291\n",
            "[107]\tvalidation_0-rmse:18.674\tvalidation_1-rmse:24.4389\n",
            "[108]\tvalidation_0-rmse:18.5466\tvalidation_1-rmse:24.422\n",
            "[109]\tvalidation_0-rmse:18.4606\tvalidation_1-rmse:24.4111\n",
            "[110]\tvalidation_0-rmse:18.4507\tvalidation_1-rmse:24.4195\n",
            "[111]\tvalidation_0-rmse:18.4206\tvalidation_1-rmse:24.4184\n",
            "[112]\tvalidation_0-rmse:18.408\tvalidation_1-rmse:24.4084\n",
            "[113]\tvalidation_0-rmse:18.3406\tvalidation_1-rmse:24.3534\n",
            "[114]\tvalidation_0-rmse:18.3145\tvalidation_1-rmse:24.3579\n",
            "[115]\tvalidation_0-rmse:18.2766\tvalidation_1-rmse:24.3135\n",
            "[116]\tvalidation_0-rmse:18.261\tvalidation_1-rmse:24.303\n",
            "[117]\tvalidation_0-rmse:18.243\tvalidation_1-rmse:24.3151\n",
            "[118]\tvalidation_0-rmse:18.2064\tvalidation_1-rmse:24.272\n",
            "[119]\tvalidation_0-rmse:18.1715\tvalidation_1-rmse:24.2397\n",
            "[120]\tvalidation_0-rmse:18.1504\tvalidation_1-rmse:24.2167\n",
            "[121]\tvalidation_0-rmse:18.088\tvalidation_1-rmse:24.1653\n",
            "[122]\tvalidation_0-rmse:18.0348\tvalidation_1-rmse:24.1321\n",
            "[123]\tvalidation_0-rmse:18.0005\tvalidation_1-rmse:24.0944\n",
            "[124]\tvalidation_0-rmse:17.9648\tvalidation_1-rmse:24.1622\n",
            "[125]\tvalidation_0-rmse:17.9378\tvalidation_1-rmse:24.1883\n",
            "[126]\tvalidation_0-rmse:17.8972\tvalidation_1-rmse:24.1472\n",
            "[127]\tvalidation_0-rmse:17.7992\tvalidation_1-rmse:24.0785\n",
            "[128]\tvalidation_0-rmse:17.7863\tvalidation_1-rmse:24.0774\n",
            "[129]\tvalidation_0-rmse:17.7353\tvalidation_1-rmse:24.0404\n",
            "[130]\tvalidation_0-rmse:17.7009\tvalidation_1-rmse:24.0225\n",
            "[131]\tvalidation_0-rmse:17.6572\tvalidation_1-rmse:23.997\n",
            "[132]\tvalidation_0-rmse:17.6137\tvalidation_1-rmse:23.9615\n",
            "[133]\tvalidation_0-rmse:17.5834\tvalidation_1-rmse:23.9526\n",
            "[134]\tvalidation_0-rmse:17.5778\tvalidation_1-rmse:23.958\n",
            "[135]\tvalidation_0-rmse:17.5654\tvalidation_1-rmse:23.9538\n",
            "[136]\tvalidation_0-rmse:17.5557\tvalidation_1-rmse:23.9532\n",
            "[137]\tvalidation_0-rmse:17.5391\tvalidation_1-rmse:23.9608\n",
            "[138]\tvalidation_0-rmse:17.4977\tvalidation_1-rmse:23.9393\n",
            "[139]\tvalidation_0-rmse:17.4293\tvalidation_1-rmse:23.9385\n",
            "[140]\tvalidation_0-rmse:17.4041\tvalidation_1-rmse:23.9033\n",
            "[141]\tvalidation_0-rmse:17.3777\tvalidation_1-rmse:23.9416\n",
            "[142]\tvalidation_0-rmse:17.3694\tvalidation_1-rmse:23.9397\n",
            "[143]\tvalidation_0-rmse:17.3241\tvalidation_1-rmse:23.9575\n",
            "[144]\tvalidation_0-rmse:17.316\tvalidation_1-rmse:23.9453\n",
            "[145]\tvalidation_0-rmse:17.26\tvalidation_1-rmse:23.9002\n",
            "[146]\tvalidation_0-rmse:17.2414\tvalidation_1-rmse:23.8797\n",
            "[147]\tvalidation_0-rmse:17.1898\tvalidation_1-rmse:23.9143\n",
            "[148]\tvalidation_0-rmse:17.159\tvalidation_1-rmse:23.8863\n",
            "[149]\tvalidation_0-rmse:17.1514\tvalidation_1-rmse:23.8891\n",
            "[150]\tvalidation_0-rmse:17.1435\tvalidation_1-rmse:23.8932\n",
            "[151]\tvalidation_0-rmse:17.1058\tvalidation_1-rmse:23.8689\n",
            "[152]\tvalidation_0-rmse:17.0062\tvalidation_1-rmse:23.8786\n",
            "[153]\tvalidation_0-rmse:17.0009\tvalidation_1-rmse:23.8835\n",
            "[154]\tvalidation_0-rmse:16.9658\tvalidation_1-rmse:23.866\n",
            "[155]\tvalidation_0-rmse:16.9374\tvalidation_1-rmse:23.9158\n",
            "[156]\tvalidation_0-rmse:16.9249\tvalidation_1-rmse:23.9006\n",
            "[157]\tvalidation_0-rmse:16.8271\tvalidation_1-rmse:23.9608\n",
            "[158]\tvalidation_0-rmse:16.8083\tvalidation_1-rmse:23.9397\n",
            "[159]\tvalidation_0-rmse:16.7871\tvalidation_1-rmse:23.8985\n",
            "[160]\tvalidation_0-rmse:16.7595\tvalidation_1-rmse:23.8724\n",
            "[161]\tvalidation_0-rmse:16.7531\tvalidation_1-rmse:23.8781\n",
            "[162]\tvalidation_0-rmse:16.7442\tvalidation_1-rmse:23.8796\n",
            "[163]\tvalidation_0-rmse:16.723\tvalidation_1-rmse:23.8727\n",
            "[164]\tvalidation_0-rmse:16.699\tvalidation_1-rmse:23.8485\n",
            "[165]\tvalidation_0-rmse:16.6681\tvalidation_1-rmse:23.8335\n",
            "[166]\tvalidation_0-rmse:16.6391\tvalidation_1-rmse:23.8141\n",
            "[167]\tvalidation_0-rmse:16.6155\tvalidation_1-rmse:23.7972\n",
            "[168]\tvalidation_0-rmse:16.5374\tvalidation_1-rmse:23.8753\n",
            "[169]\tvalidation_0-rmse:16.4935\tvalidation_1-rmse:23.8838\n",
            "[170]\tvalidation_0-rmse:16.4116\tvalidation_1-rmse:23.9109\n",
            "[171]\tvalidation_0-rmse:16.3531\tvalidation_1-rmse:23.9188\n",
            "[172]\tvalidation_0-rmse:16.3239\tvalidation_1-rmse:23.8952\n",
            "[173]\tvalidation_0-rmse:16.3157\tvalidation_1-rmse:23.8889\n",
            "[174]\tvalidation_0-rmse:16.2272\tvalidation_1-rmse:23.8682\n",
            "[175]\tvalidation_0-rmse:16.2146\tvalidation_1-rmse:23.8804\n",
            "[176]\tvalidation_0-rmse:16.2066\tvalidation_1-rmse:23.8851\n",
            "[177]\tvalidation_0-rmse:16.2017\tvalidation_1-rmse:23.8809\n",
            "[178]\tvalidation_0-rmse:16.1957\tvalidation_1-rmse:23.8874\n",
            "[179]\tvalidation_0-rmse:16.1615\tvalidation_1-rmse:23.8947\n",
            "[180]\tvalidation_0-rmse:16.1488\tvalidation_1-rmse:23.8938\n",
            "[181]\tvalidation_0-rmse:16.107\tvalidation_1-rmse:23.8705\n",
            "[182]\tvalidation_0-rmse:16.0807\tvalidation_1-rmse:23.8747\n",
            "[183]\tvalidation_0-rmse:16.0366\tvalidation_1-rmse:23.8828\n",
            "[184]\tvalidation_0-rmse:16.0329\tvalidation_1-rmse:23.8845\n",
            "[185]\tvalidation_0-rmse:15.9994\tvalidation_1-rmse:23.8554\n",
            "[186]\tvalidation_0-rmse:15.9795\tvalidation_1-rmse:23.8358\n",
            "[187]\tvalidation_0-rmse:15.9517\tvalidation_1-rmse:23.8486\n",
            "[188]\tvalidation_0-rmse:15.9341\tvalidation_1-rmse:23.8521\n",
            "[189]\tvalidation_0-rmse:15.9265\tvalidation_1-rmse:23.8502\n",
            "[190]\tvalidation_0-rmse:15.9097\tvalidation_1-rmse:23.8316\n",
            "[191]\tvalidation_0-rmse:15.8666\tvalidation_1-rmse:23.8199\n",
            "[192]\tvalidation_0-rmse:15.8363\tvalidation_1-rmse:23.8591\n",
            "[193]\tvalidation_0-rmse:15.7571\tvalidation_1-rmse:23.9841\n",
            "[194]\tvalidation_0-rmse:15.7322\tvalidation_1-rmse:23.9556\n",
            "[195]\tvalidation_0-rmse:15.7057\tvalidation_1-rmse:23.9217\n",
            "[196]\tvalidation_0-rmse:15.6862\tvalidation_1-rmse:23.9253\n",
            "[197]\tvalidation_0-rmse:15.6747\tvalidation_1-rmse:23.9312\n",
            "[198]\tvalidation_0-rmse:15.6623\tvalidation_1-rmse:23.9302\n",
            "[199]\tvalidation_0-rmse:15.6051\tvalidation_1-rmse:24.0022\n",
            "[200]\tvalidation_0-rmse:15.5897\tvalidation_1-rmse:24.0177\n",
            "[201]\tvalidation_0-rmse:15.5842\tvalidation_1-rmse:24.0288\n",
            "[202]\tvalidation_0-rmse:15.5619\tvalidation_1-rmse:24.0544\n",
            "[203]\tvalidation_0-rmse:15.5115\tvalidation_1-rmse:24.146\n",
            "[204]\tvalidation_0-rmse:15.5012\tvalidation_1-rmse:24.1374\n",
            "[205]\tvalidation_0-rmse:15.4915\tvalidation_1-rmse:24.1296\n",
            "[206]\tvalidation_0-rmse:15.4604\tvalidation_1-rmse:24.1266\n",
            "[207]\tvalidation_0-rmse:15.4357\tvalidation_1-rmse:24.0955\n",
            "[208]\tvalidation_0-rmse:15.4312\tvalidation_1-rmse:24.0936\n",
            "[209]\tvalidation_0-rmse:15.42\tvalidation_1-rmse:24.1029\n",
            "[210]\tvalidation_0-rmse:15.4113\tvalidation_1-rmse:24.0934\n",
            "[211]\tvalidation_0-rmse:15.3906\tvalidation_1-rmse:24.1016\n",
            "[212]\tvalidation_0-rmse:15.3652\tvalidation_1-rmse:24.0862\n",
            "[213]\tvalidation_0-rmse:15.348\tvalidation_1-rmse:24.0655\n",
            "[214]\tvalidation_0-rmse:15.3356\tvalidation_1-rmse:24.0553\n",
            "[215]\tvalidation_0-rmse:15.3191\tvalidation_1-rmse:24.1044\n",
            "[216]\tvalidation_0-rmse:15.3157\tvalidation_1-rmse:24.1038\n",
            "[217]\tvalidation_0-rmse:15.295\tvalidation_1-rmse:24.0919\n",
            "Stopping. Best iteration:\n",
            "[167]\tvalidation_0-rmse:16.6155\tvalidation_1-rmse:23.7972\n",
            "\n"
          ],
          "name": "stdout"
        },
        {
          "output_type": "execute_result",
          "data": {
            "text/plain": [
              "GridSearchCV(cv=2, error_score=nan,\n",
              "             estimator=XGBRegressor(base_score=0.5, booster='gbtree',\n",
              "                                    colsample_bylevel=1, colsample_bynode=1,\n",
              "                                    colsample_bytree=1, gamma=0,\n",
              "                                    importance_type='gain', learning_rate=0.1,\n",
              "                                    max_delta_step=0, max_depth=3,\n",
              "                                    min_child_weight=1, missing=None,\n",
              "                                    n_estimators=100, n_jobs=1, nthread=None,\n",
              "                                    objective='reg:linear', random_state=0,\n",
              "                                    reg_alpha=0, reg_...\n",
              "                                    scale_pos_weight=1, seed=None, silent=None,\n",
              "                                    subsample=1, verbosity=1),\n",
              "             iid='deprecated', n_jobs=5,\n",
              "             param_grid={'colsample_bytree': [0.7],\n",
              "                         'learning_rate': [0.05, 0.07, 0.1],\n",
              "                         'max_depth': [5, 6], 'min_child_weight': [4, 5],\n",
              "                         'n_estimators': [500], 'nthread': [4],\n",
              "                         'objective': ['reg:linear'], 'silent': [1],\n",
              "                         'subsample': [0.7]},\n",
              "             pre_dispatch='2*n_jobs', refit=True, return_train_score=False,\n",
              "             scoring=None, verbose=True)"
            ]
          },
          "metadata": {
            "tags": []
          },
          "execution_count": 54
        }
      ]
    },
    {
      "cell_type": "code",
      "metadata": {
        "id": "NTlujQmOr6SC"
      },
      "source": [
        "X_test['pre'] = pre\n",
        "X_test['actual'] = Y_test"
      ],
      "execution_count": 70,
      "outputs": []
    },
    {
      "cell_type": "code",
      "metadata": {
        "colab": {
          "base_uri": "https://localhost:8080/"
        },
        "id": "mzYwW4wcsV6n",
        "outputId": "0e56888b-d74e-4e9c-9b3b-6be6b6ca5f35"
      },
      "source": [
        "r2_score(Y_test, pre)"
      ],
      "execution_count": 69,
      "outputs": [
        {
          "output_type": "execute_result",
          "data": {
            "text/plain": [
              "-3.19109979406006"
            ]
          },
          "metadata": {
            "tags": []
          },
          "execution_count": 69
        }
      ]
    },
    {
      "cell_type": "code",
      "metadata": {
        "id": "VKy2kNOEqmZn"
      },
      "source": [
        "pre = xgb_grid.predict(X_test)\n"
      ],
      "execution_count": 58,
      "outputs": []
    },
    {
      "cell_type": "code",
      "metadata": {
        "id": "0JbJF5rJZa3m",
        "colab": {
          "base_uri": "https://localhost:8080/"
        },
        "outputId": "ce79ec54-6626-4ba2-e777-b5d3969395ff"
      },
      "source": [
        "from sklearn.metrics import mean_squared_error\n",
        "mean_squared_error(Y_test, pre)"
      ],
      "execution_count": 72,
      "outputs": [
        {
          "output_type": "execute_result",
          "data": {
            "text/plain": [
              "1485.9727324263936"
            ]
          },
          "metadata": {
            "tags": []
          },
          "execution_count": 72
        }
      ]
    },
    {
      "cell_type": "code",
      "metadata": {
        "id": "vDdpZqaCWqEv"
      },
      "source": [
        "pre['Prediction'] = reg.predict(X_test)\n",
        "pjme_all = pd.concat([test, pre], sort=False)"
      ],
      "execution_count": null,
      "outputs": []
    },
    {
      "cell_type": "code",
      "metadata": {
        "id": "xvTVlDGdYD0e"
      },
      "source": [
        "def f(station_id,):\n",
        "  list1 = list(df.loc[df['STATION ID']==station_id].index)\n",
        "  actual = df.index is in list1\n",
        "  test = tes.index is in list1\n",
        "  pjme_all = pd.concat([test, pre], sort=False)\n",
        "\n"
      ],
      "execution_count": null,
      "outputs": []
    },
    {
      "cell_type": "code",
      "metadata": {
        "id": "2mWq_VVmWrp1"
      },
      "source": [
        "_ = pjme_all[['PJME_MW','MW_Prediction']].plot(figsize=(12, 5))\n"
      ],
      "execution_count": null,
      "outputs": []
    }
  ]
}